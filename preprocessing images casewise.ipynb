{
 "cells": [
  {
   "cell_type": "code",
   "execution_count": 1,
   "id": "b7f701bb",
   "metadata": {},
   "outputs": [],
   "source": [
    "import os\n",
    "import pandas as pd\n",
    "import seaborn as sns\n",
    "import matplotlib.pyplot as plt\n",
    "import warnings\n",
    "import cv2\n",
    "import numpy as np"
   ]
  },
  {
   "cell_type": "code",
   "execution_count": 2,
   "id": "38d7ba0b",
   "metadata": {},
   "outputs": [],
   "source": [
    "IMG_SIZE= 512\n",
    "\n",
    "def crop_image_from_gray(img,tol=7):\n",
    "    if img.ndim ==2:\n",
    "        mask = img>tol\n",
    "        return img[np.ix_(mask.any(1),mask.any(0))]\n",
    "    \n",
    "    elif img.ndim==3:\n",
    "        gray_img = cv2.cvtColor(img, cv2.COLOR_RGB2GRAY)\n",
    "        mask = gray_img>tol\n",
    "        \n",
    "        check_shape = img[:,:,0][np.ix_(mask.any(1),mask.any(0))].shape[0]\n",
    "        if (check_shape == 0): # image is too dark so that we crop out everything,\n",
    "            return img # return original image\n",
    "        else:\n",
    "            img1=img[:,:,0][np.ix_(mask.any(1),mask.any(0))]\n",
    "            img2=img[:,:,1][np.ix_(mask.any(1),mask.any(0))]\n",
    "            img3=img[:,:,2][np.ix_(mask.any(1),mask.any(0))]\n",
    "    #         print(img1.shape,img2.shape,img3.shape)\n",
    "            img = np.stack([img1,img2,img3],axis=-1)\n",
    "    #         print(img.shape)\n",
    "        return img\n",
    "    \n",
    "\n",
    "\n",
    "def circle_crop(img, sigmaX = 30):   \n",
    "    \"\"\"\n",
    "    Create circular crop around image centre    \n",
    "    \"\"\"    \n",
    "    img = crop_image_from_gray(img)    \n",
    "    img = cv2.cvtColor(img, cv2.COLOR_BGR2RGB)\n",
    "    \n",
    "    height, width, depth = img.shape    \n",
    "    \n",
    "    x = int(width/2)\n",
    "    y = int(height/2)\n",
    "    r = np.amin((x,y))\n",
    "    \n",
    "    circle_img = np.zeros((height, width), np.uint8)\n",
    "    cv2.circle(circle_img, (x,y), int(r), 1, thickness=-1)\n",
    "    img = cv2.bitwise_and(img, img, mask=circle_img)\n",
    "    img = crop_image_from_gray(img)\n",
    "    img=cv2.addWeighted(img,4, cv2.GaussianBlur( img , (0,0) , sigmaX) ,-4 ,128)\n",
    "    return img \n"
   ]
  },
  {
   "cell_type": "markdown",
   "id": "9bff4df2",
   "metadata": {},
   "source": [
    "### Preprocessing completeTrain images with labes"
   ]
  },
  {
   "cell_type": "code",
   "execution_count": 3,
   "id": "4c1fb63a",
   "metadata": {},
   "outputs": [],
   "source": [
    "input_path= \"D:/Albot/Medical Imaging-Eyes/code/Jupyter notebook/dataset/train_images\"\n",
    "output_path= \"D:/Albot/Medical Imaging-Eyes/code/Jupyter notebook/dataset/train_images_preprocessed\"\n",
    "\n",
    "for root, dirs, files in os.walk(input_path):\n",
    "    for image_name in files:\n",
    "        #print(image_name)\n",
    "        if '.png' in image_name:\n",
    "            filepath= os.path.join(input_path, image_name)   #Reading path \n",
    "            outpath= os.path.join(output_path, image_name)   #Writing Path \n",
    "            img= cv2.imread(filepath)\n",
    "            img= circle_crop(img)\n",
    "            img= cv2.resize(img,(IMG_SIZE,IMG_SIZE))\n",
    "            cv2.imwrite(outpath, img)"
   ]
  },
  {
   "cell_type": "markdown",
   "id": "984ee4c7",
   "metadata": {},
   "source": [
    "# Train Image Preprocessing"
   ]
  },
  {
   "cell_type": "markdown",
   "id": "57971940",
   "metadata": {},
   "source": [
    "### Mild cases"
   ]
  },
  {
   "cell_type": "code",
   "execution_count": 3,
   "id": "51ff4632",
   "metadata": {},
   "outputs": [],
   "source": [
    "input_path= \"D:/Albot/Medical Imaging-Eyes/code/Datasets/Mild/\"\n",
    "output_path= \"D:/Albot/Medical Imaging-Eyes/code/Datasets/Mild_preprocessed/\"\n",
    "\n",
    "for root, dirs, files in os.walk(input_path):\n",
    "    for image_name in files:\n",
    "        #print(image_name)\n",
    "        if '.png' in image_name:\n",
    "            filepath= os.path.join(input_path, image_name)   #Reading path \n",
    "            outpath= os.path.join(output_path, image_name)   #Writing Path \n",
    "            img= cv2.imread(filepath)\n",
    "            img= circle_crop(img)\n",
    "            img= cv2.resize(img,(IMG_SIZE,IMG_SIZE))\n",
    "            cv2.imwrite(outpath, img)"
   ]
  },
  {
   "cell_type": "markdown",
   "id": "df4b279a",
   "metadata": {},
   "source": [
    "### No_DR Cases"
   ]
  },
  {
   "cell_type": "code",
   "execution_count": 4,
   "id": "78ee840e",
   "metadata": {},
   "outputs": [],
   "source": [
    "input_path= \"D:/Albot/Medical Imaging-Eyes/code/Datasets/No_DR\"\n",
    "output_path= \"D:/Albot/Medical Imaging-Eyes/code/Datasets/No_DR_preprocessed\"\n",
    "\n",
    "for root, dirs, files in os.walk(input_path):\n",
    "    for image_name in files:\n",
    "        #print(image_name)\n",
    "        if '.png' in image_name:\n",
    "            filepath= os.path.join(input_path, image_name)   #Reading path \n",
    "            outpath= os.path.join(output_path, image_name)   #Writing Path \n",
    "            img= cv2.imread(filepath)\n",
    "            img= circle_crop(img)\n",
    "            img= cv2.resize(img,(IMG_SIZE,IMG_SIZE))\n",
    "            cv2.imwrite(outpath, img)"
   ]
  },
  {
   "cell_type": "markdown",
   "id": "f03b7e87",
   "metadata": {},
   "source": [
    "### Moderate cases"
   ]
  },
  {
   "cell_type": "code",
   "execution_count": 5,
   "id": "d8b41a5a",
   "metadata": {},
   "outputs": [],
   "source": [
    "input_path= \"D:/Albot/Medical Imaging-Eyes/code/Datasets/Moderate\"\n",
    "output_path= \"D:/Albot/Medical Imaging-Eyes/code/Datasets/Moderate_preprocessed\"\n",
    "\n",
    "for root, dirs, files in os.walk(input_path):\n",
    "    for image_name in files:\n",
    "        #print(image_name)\n",
    "        if '.png' in image_name:\n",
    "            filepath= os.path.join(input_path, image_name)   #Reading path \n",
    "            outpath= os.path.join(output_path, image_name)   #Writing Path \n",
    "            img= cv2.imread(filepath)\n",
    "            img= circle_crop(img)\n",
    "            img= cv2.resize(img,(IMG_SIZE,IMG_SIZE))\n",
    "            cv2.imwrite(outpath, img)"
   ]
  },
  {
   "cell_type": "markdown",
   "id": "2db202e4",
   "metadata": {},
   "source": [
    "### Proliferate_DR cases"
   ]
  },
  {
   "cell_type": "code",
   "execution_count": 6,
   "id": "8d299579",
   "metadata": {},
   "outputs": [],
   "source": [
    "input_path= \"D:/Albot/Medical Imaging-Eyes/code/Datasets/Proliferate_DR\"\n",
    "output_path= \"D:/Albot/Medical Imaging-Eyes/code/Datasets/Proliferate_DR_preprocessed\"\n",
    "\n",
    "for root, dirs, files in os.walk(input_path):\n",
    "    for image_name in files:\n",
    "        #print(image_name)\n",
    "        if '.png' in image_name:\n",
    "            filepath= os.path.join(input_path, image_name)   #Reading path \n",
    "            outpath= os.path.join(output_path, image_name)   #Writing Path \n",
    "            img= cv2.imread(filepath)\n",
    "            img= circle_crop(img)\n",
    "            img= cv2.resize(img,(IMG_SIZE,IMG_SIZE))\n",
    "            cv2.imwrite(outpath, img)"
   ]
  },
  {
   "cell_type": "markdown",
   "id": "2bcbac05",
   "metadata": {},
   "source": [
    "### Severe Cases"
   ]
  },
  {
   "cell_type": "code",
   "execution_count": 7,
   "id": "6c49f7af",
   "metadata": {},
   "outputs": [],
   "source": [
    "input_path= \"D:/Albot/Medical Imaging-Eyes/code/Datasets/Severe\"\n",
    "output_path= \"D:/Albot/Medical Imaging-Eyes/code/Datasets/Severe_preprocessed\"\n",
    "\n",
    "for root, dirs, files in os.walk(input_path):\n",
    "    for image_name in files:\n",
    "        #print(image_name)\n",
    "        if '.png' in image_name:\n",
    "            filepath= os.path.join(input_path, image_name)   #Reading path \n",
    "            outpath= os.path.join(output_path, image_name)   #Writing Path \n",
    "            img= cv2.imread(filepath)\n",
    "            img= circle_crop(img)\n",
    "            img= cv2.resize(img,(IMG_SIZE,IMG_SIZE))\n",
    "            cv2.imwrite(outpath, img)"
   ]
  },
  {
   "cell_type": "markdown",
   "id": "b4a0e731",
   "metadata": {},
   "source": [
    "# Test image preprocessing"
   ]
  },
  {
   "cell_type": "markdown",
   "id": "ef9126b1",
   "metadata": {},
   "source": [
    "### Mild cases"
   ]
  },
  {
   "cell_type": "code",
   "execution_count": 8,
   "id": "05bf23f7",
   "metadata": {},
   "outputs": [],
   "source": [
    "input_path= \"D:/Albot/Medical Imaging-Eyes/code/Data3/Test/Mild\"\n",
    "output_path= \"D:/Albot/Medical Imaging-Eyes/code/Data3/Test/Mild_preprocessed\"\n",
    "\n",
    "for root, dirs, files in os.walk(input_path):\n",
    "    for image_name in files:\n",
    "        #print(image_name)\n",
    "        if '.png' in image_name:\n",
    "            filepath= os.path.join(input_path, image_name)   #Reading path \n",
    "            outpath= os.path.join(output_path, image_name)   #Writing Path \n",
    "            img= cv2.imread(filepath)\n",
    "            img= circle_crop(img)\n",
    "            img= cv2.resize(img,(IMG_SIZE,IMG_SIZE))\n",
    "            cv2.imwrite(outpath, img)"
   ]
  },
  {
   "cell_type": "markdown",
   "id": "d9ef7fb0",
   "metadata": {},
   "source": [
    "### Moderate Cases"
   ]
  },
  {
   "cell_type": "code",
   "execution_count": 10,
   "id": "22781d11",
   "metadata": {},
   "outputs": [],
   "source": [
    "input_path= \"D:/Albot/Medical Imaging-Eyes/code/Data3/Test/Moderate\"\n",
    "output_path= \"D:/Albot/Medical Imaging-Eyes/code/Data3/Test/Moderate_preprocessed\"\n",
    "\n",
    "for root, dirs, files in os.walk(input_path):\n",
    "    for image_name in files:\n",
    "        #print(image_name)\n",
    "        if '.png' in image_name:\n",
    "            filepath= os.path.join(input_path, image_name)   #Reading path \n",
    "            outpath= os.path.join(output_path, image_name)   #Writing Path \n",
    "            img= cv2.imread(filepath)\n",
    "            img= circle_crop(img)\n",
    "            img= cv2.resize(img,(IMG_SIZE,IMG_SIZE))\n",
    "            cv2.imwrite(outpath, img)"
   ]
  },
  {
   "cell_type": "markdown",
   "id": "0ca29ddb",
   "metadata": {},
   "source": [
    "### No_DR Cases"
   ]
  },
  {
   "cell_type": "code",
   "execution_count": 11,
   "id": "c71916b4",
   "metadata": {},
   "outputs": [],
   "source": [
    "input_path= \"D:/Albot/Medical Imaging-Eyes/code/Data3/Test/No_DR\"\n",
    "output_path= \"D:/Albot/Medical Imaging-Eyes/code/Data3/Test/No_DR_preprocessed\"\n",
    "\n",
    "for root, dirs, files in os.walk(input_path):\n",
    "    for image_name in files:\n",
    "        #print(image_name)\n",
    "        if '.png' in image_name:\n",
    "            filepath= os.path.join(input_path, image_name)   #Reading path \n",
    "            outpath= os.path.join(output_path, image_name)   #Writing Path \n",
    "            img= cv2.imread(filepath)\n",
    "            img= circle_crop(img)\n",
    "            img= cv2.resize(img,(IMG_SIZE,IMG_SIZE))\n",
    "            cv2.imwrite(outpath, img)"
   ]
  },
  {
   "cell_type": "markdown",
   "id": "e3e8cf8e",
   "metadata": {},
   "source": [
    "### Proliferate_DR"
   ]
  },
  {
   "cell_type": "code",
   "execution_count": 12,
   "id": "e5526b75",
   "metadata": {},
   "outputs": [],
   "source": [
    "input_path= \"D:/Albot/Medical Imaging-Eyes/code/Data3/Test/Proliferate_DR\"\n",
    "output_path= \"D:/Albot/Medical Imaging-Eyes/code/Data3/Test/Proliferate_DR_preprocessed\"\n",
    "\n",
    "for root, dirs, files in os.walk(input_path):\n",
    "    for image_name in files:\n",
    "        #print(image_name)\n",
    "        if '.png' in image_name:\n",
    "            filepath= os.path.join(input_path, image_name)   #Reading path \n",
    "            outpath= os.path.join(output_path, image_name)   #Writing Path \n",
    "            img= cv2.imread(filepath)\n",
    "            img= circle_crop(img)\n",
    "            img= cv2.resize(img,(IMG_SIZE,IMG_SIZE))\n",
    "            cv2.imwrite(outpath, img)"
   ]
  },
  {
   "cell_type": "markdown",
   "id": "0ee3fa0f",
   "metadata": {},
   "source": [
    "### Severe Cases"
   ]
  },
  {
   "cell_type": "code",
   "execution_count": 13,
   "id": "eae14070",
   "metadata": {},
   "outputs": [],
   "source": [
    "input_path= \"D:/Albot/Medical Imaging-Eyes/code/Data3/Test/Severe\"\n",
    "output_path= \"D:\\Albot\\Medical Imaging-Eyes\\code\\Data3\\Test\\Severe_preprocessed\"\n",
    "\n",
    "for root, dirs, files in os.walk(input_path):\n",
    "    for image_name in files:\n",
    "        #print(image_name)\n",
    "        if '.png' in image_name:\n",
    "            filepath= os.path.join(input_path, image_name)   #Reading path \n",
    "            outpath= os.path.join(output_path, image_name)   #Writing Path \n",
    "            img= cv2.imread(filepath)\n",
    "            img= circle_crop(img)\n",
    "            img= cv2.resize(img,(IMG_SIZE,IMG_SIZE))\n",
    "            cv2.imwrite(outpath, img)"
   ]
  },
  {
   "cell_type": "code",
   "execution_count": null,
   "id": "9ec11f8d",
   "metadata": {},
   "outputs": [],
   "source": []
  },
  {
   "cell_type": "code",
   "execution_count": null,
   "id": "37a8e7c2",
   "metadata": {},
   "outputs": [],
   "source": []
  },
  {
   "cell_type": "code",
   "execution_count": null,
   "id": "30276212",
   "metadata": {},
   "outputs": [],
   "source": []
  }
 ],
 "metadata": {
  "kernelspec": {
   "display_name": "Python 3",
   "language": "python",
   "name": "python3"
  },
  "language_info": {
   "codemirror_mode": {
    "name": "ipython",
    "version": 3
   },
   "file_extension": ".py",
   "mimetype": "text/x-python",
   "name": "python",
   "nbconvert_exporter": "python",
   "pygments_lexer": "ipython3",
   "version": "3.6.13"
  }
 },
 "nbformat": 4,
 "nbformat_minor": 5
}
