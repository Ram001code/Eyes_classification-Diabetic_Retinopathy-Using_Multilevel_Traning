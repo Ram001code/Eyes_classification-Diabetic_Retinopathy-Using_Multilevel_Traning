{
 "cells": [
  {
   "cell_type": "code",
   "execution_count": 1,
   "id": "3bb698bb",
   "metadata": {},
   "outputs": [],
   "source": [
    "import os\n",
    "import pandas as pd\n",
    "import seaborn as sns\n",
    "import matplotlib.pyplot as plt"
   ]
  },
  {
   "cell_type": "code",
   "execution_count": 2,
   "id": "ffbf76a6",
   "metadata": {},
   "outputs": [],
   "source": [
    "def load_data():\n",
    "    train= pd.read_csv('dataset/train_1.csv')\n",
    "    test= pd.read_csv('dataset/test.csv')\n",
    "    \n",
    "    train_dir = os.path.join('dataset/train_images/')\n",
    "    test_dir = os.path.join('./','dataset/test_images/')\n",
    "    \n",
    "    train['file_path'] = train['id_code'].map(lambda x: os.path.join(train_dir, '{}.png'.format(x)))\n",
    "    test['file_path'] = test['id_code'].map(lambda x: os.path.join(test_dir, '{}.png'.format(x)))\n",
    "    \n",
    "    train['file_name']= train['id_code'].apply(lambda x: x+ '.png')\n",
    "    test['file_name']= test['id_code'].apply(lambda x: x+ '.png')\n",
    "    \n",
    "    train['diagnosis'] = train['diagnosis'].astype(str)\n",
    "    \n",
    "    return train, test"
   ]
  },
  {
   "cell_type": "code",
   "execution_count": 3,
   "id": "9c4e056c",
   "metadata": {},
   "outputs": [
    {
     "name": "stdout",
     "output_type": "stream",
     "text": [
      "(2930, 4) (366, 4) \n",
      "\n"
     ]
    },
    {
     "data": {
      "text/html": [
       "<div>\n",
       "<style scoped>\n",
       "    .dataframe tbody tr th:only-of-type {\n",
       "        vertical-align: middle;\n",
       "    }\n",
       "\n",
       "    .dataframe tbody tr th {\n",
       "        vertical-align: top;\n",
       "    }\n",
       "\n",
       "    .dataframe thead th {\n",
       "        text-align: right;\n",
       "    }\n",
       "</style>\n",
       "<table border=\"1\" class=\"dataframe\">\n",
       "  <thead>\n",
       "    <tr style=\"text-align: right;\">\n",
       "      <th></th>\n",
       "      <th>id_code</th>\n",
       "      <th>diagnosis</th>\n",
       "      <th>file_path</th>\n",
       "      <th>file_name</th>\n",
       "    </tr>\n",
       "  </thead>\n",
       "  <tbody>\n",
       "    <tr>\n",
       "      <th>0</th>\n",
       "      <td>1ae8c165fd53</td>\n",
       "      <td>2</td>\n",
       "      <td>dataset/train_images/1ae8c165fd53.png</td>\n",
       "      <td>1ae8c165fd53.png</td>\n",
       "    </tr>\n",
       "    <tr>\n",
       "      <th>1</th>\n",
       "      <td>1b329a127307</td>\n",
       "      <td>1</td>\n",
       "      <td>dataset/train_images/1b329a127307.png</td>\n",
       "      <td>1b329a127307.png</td>\n",
       "    </tr>\n",
       "    <tr>\n",
       "      <th>2</th>\n",
       "      <td>1b32e1d775ea</td>\n",
       "      <td>4</td>\n",
       "      <td>dataset/train_images/1b32e1d775ea.png</td>\n",
       "      <td>1b32e1d775ea.png</td>\n",
       "    </tr>\n",
       "    <tr>\n",
       "      <th>3</th>\n",
       "      <td>1b3647865779</td>\n",
       "      <td>0</td>\n",
       "      <td>dataset/train_images/1b3647865779.png</td>\n",
       "      <td>1b3647865779.png</td>\n",
       "    </tr>\n",
       "    <tr>\n",
       "      <th>4</th>\n",
       "      <td>1b398c0494d1</td>\n",
       "      <td>0</td>\n",
       "      <td>dataset/train_images/1b398c0494d1.png</td>\n",
       "      <td>1b398c0494d1.png</td>\n",
       "    </tr>\n",
       "  </tbody>\n",
       "</table>\n",
       "</div>"
      ],
      "text/plain": [
       "        id_code diagnosis                              file_path  \\\n",
       "0  1ae8c165fd53         2  dataset/train_images/1ae8c165fd53.png   \n",
       "1  1b329a127307         1  dataset/train_images/1b329a127307.png   \n",
       "2  1b32e1d775ea         4  dataset/train_images/1b32e1d775ea.png   \n",
       "3  1b3647865779         0  dataset/train_images/1b3647865779.png   \n",
       "4  1b398c0494d1         0  dataset/train_images/1b398c0494d1.png   \n",
       "\n",
       "          file_name  \n",
       "0  1ae8c165fd53.png  \n",
       "1  1b329a127307.png  \n",
       "2  1b32e1d775ea.png  \n",
       "3  1b3647865779.png  \n",
       "4  1b398c0494d1.png  "
      ]
     },
     "execution_count": 3,
     "metadata": {},
     "output_type": "execute_result"
    }
   ],
   "source": [
    "df_train, df_test =  load_data()\n",
    "\n",
    "print(df_train.shape, df_test.shape, '\\n')\n",
    "\n",
    "df_train.head()"
   ]
  },
  {
   "cell_type": "code",
   "execution_count": 4,
   "id": "108c2bd7",
   "metadata": {},
   "outputs": [
    {
     "data": {
      "text/plain": [
       "((2344, 4), (586, 4))"
      ]
     },
     "execution_count": 4,
     "metadata": {},
     "output_type": "execute_result"
    }
   ],
   "source": [
    "from sklearn.model_selection import train_test_split\n",
    "\n",
    "df_train_train, df_train_valid= train_test_split(df_train, test_size= 0.2)\n",
    "\n",
    "df_train_train.shape, df_train_valid.shape"
   ]
  },
  {
   "cell_type": "markdown",
   "id": "fd7daad0",
   "metadata": {},
   "source": [
    "### Saving data "
   ]
  },
  {
   "cell_type": "code",
   "execution_count": 6,
   "id": "79c73f6e",
   "metadata": {},
   "outputs": [],
   "source": [
    "import pickle\n",
    "\n",
    "file = open('df_train_train', 'wb')\n",
    "pickle.dump(df_train_train, file)\n",
    "file.close()\n",
    "\n",
    "file = open('df_test', 'wb')\n",
    "pickle.dump(df_test, file)\n",
    "file.close()\n"
   ]
  },
  {
   "cell_type": "code",
   "execution_count": 8,
   "id": "042deaab",
   "metadata": {},
   "outputs": [],
   "source": [
    "#Loading data \n",
    "\n",
    "file = open('df_train_train', 'rb')\n",
    "df_train_train = pickle.load(file)\n",
    "file.close()\n",
    "\n",
    "file = open('df_test', 'rb')\n",
    "df_train_test = pickle.load(file)\n",
    "file.close()"
   ]
  },
  {
   "cell_type": "code",
   "execution_count": 9,
   "id": "e7bcc909",
   "metadata": {},
   "outputs": [
    {
     "data": {
      "text/html": [
       "<div>\n",
       "<style scoped>\n",
       "    .dataframe tbody tr th:only-of-type {\n",
       "        vertical-align: middle;\n",
       "    }\n",
       "\n",
       "    .dataframe tbody tr th {\n",
       "        vertical-align: top;\n",
       "    }\n",
       "\n",
       "    .dataframe thead th {\n",
       "        text-align: right;\n",
       "    }\n",
       "</style>\n",
       "<table border=\"1\" class=\"dataframe\">\n",
       "  <thead>\n",
       "    <tr style=\"text-align: right;\">\n",
       "      <th></th>\n",
       "      <th>id_code</th>\n",
       "      <th>diagnosis</th>\n",
       "      <th>file_path</th>\n",
       "      <th>file_name</th>\n",
       "    </tr>\n",
       "  </thead>\n",
       "  <tbody>\n",
       "    <tr>\n",
       "      <th>1326</th>\n",
       "      <td>77ab222bf85c</td>\n",
       "      <td>0</td>\n",
       "      <td>dataset/train_images/77ab222bf85c.png</td>\n",
       "      <td>77ab222bf85c.png</td>\n",
       "    </tr>\n",
       "    <tr>\n",
       "      <th>300</th>\n",
       "      <td>2f7fbdcc9a4b</td>\n",
       "      <td>0</td>\n",
       "      <td>dataset/train_images/2f7fbdcc9a4b.png</td>\n",
       "      <td>2f7fbdcc9a4b.png</td>\n",
       "    </tr>\n",
       "    <tr>\n",
       "      <th>2831</th>\n",
       "      <td>de778495a1cd</td>\n",
       "      <td>2</td>\n",
       "      <td>dataset/train_images/de778495a1cd.png</td>\n",
       "      <td>de778495a1cd.png</td>\n",
       "    </tr>\n",
       "    <tr>\n",
       "      <th>328</th>\n",
       "      <td>31616ff6b53b</td>\n",
       "      <td>3</td>\n",
       "      <td>dataset/train_images/31616ff6b53b.png</td>\n",
       "      <td>31616ff6b53b.png</td>\n",
       "    </tr>\n",
       "    <tr>\n",
       "      <th>401</th>\n",
       "      <td>370f575adb23</td>\n",
       "      <td>0</td>\n",
       "      <td>dataset/train_images/370f575adb23.png</td>\n",
       "      <td>370f575adb23.png</td>\n",
       "    </tr>\n",
       "  </tbody>\n",
       "</table>\n",
       "</div>"
      ],
      "text/plain": [
       "           id_code diagnosis                              file_path  \\\n",
       "1326  77ab222bf85c         0  dataset/train_images/77ab222bf85c.png   \n",
       "300   2f7fbdcc9a4b         0  dataset/train_images/2f7fbdcc9a4b.png   \n",
       "2831  de778495a1cd         2  dataset/train_images/de778495a1cd.png   \n",
       "328   31616ff6b53b         3  dataset/train_images/31616ff6b53b.png   \n",
       "401   370f575adb23         0  dataset/train_images/370f575adb23.png   \n",
       "\n",
       "             file_name  \n",
       "1326  77ab222bf85c.png  \n",
       "300   2f7fbdcc9a4b.png  \n",
       "2831  de778495a1cd.png  \n",
       "328   31616ff6b53b.png  \n",
       "401   370f575adb23.png  "
      ]
     },
     "execution_count": 9,
     "metadata": {},
     "output_type": "execute_result"
    }
   ],
   "source": [
    "df_train_train.head()"
   ]
  },
  {
   "cell_type": "code",
   "execution_count": 10,
   "id": "1e0c3036",
   "metadata": {},
   "outputs": [
    {
     "data": {
      "text/html": [
       "<div>\n",
       "<style scoped>\n",
       "    .dataframe tbody tr th:only-of-type {\n",
       "        vertical-align: middle;\n",
       "    }\n",
       "\n",
       "    .dataframe tbody tr th {\n",
       "        vertical-align: top;\n",
       "    }\n",
       "\n",
       "    .dataframe thead th {\n",
       "        text-align: right;\n",
       "    }\n",
       "</style>\n",
       "<table border=\"1\" class=\"dataframe\">\n",
       "  <thead>\n",
       "    <tr style=\"text-align: right;\">\n",
       "      <th></th>\n",
       "      <th>id_code</th>\n",
       "      <th>diagnosis</th>\n",
       "      <th>file_path</th>\n",
       "      <th>file_name</th>\n",
       "    </tr>\n",
       "  </thead>\n",
       "  <tbody>\n",
       "    <tr>\n",
       "      <th>0</th>\n",
       "      <td>e4dcca36ceb4</td>\n",
       "      <td>0</td>\n",
       "      <td>./dataset/test_images/e4dcca36ceb4.png</td>\n",
       "      <td>e4dcca36ceb4.png</td>\n",
       "    </tr>\n",
       "    <tr>\n",
       "      <th>1</th>\n",
       "      <td>e4e343eaae2a</td>\n",
       "      <td>2</td>\n",
       "      <td>./dataset/test_images/e4e343eaae2a.png</td>\n",
       "      <td>e4e343eaae2a.png</td>\n",
       "    </tr>\n",
       "    <tr>\n",
       "      <th>2</th>\n",
       "      <td>e4f12411fd85</td>\n",
       "      <td>4</td>\n",
       "      <td>./dataset/test_images/e4f12411fd85.png</td>\n",
       "      <td>e4f12411fd85.png</td>\n",
       "    </tr>\n",
       "    <tr>\n",
       "      <th>3</th>\n",
       "      <td>e50b0174690d</td>\n",
       "      <td>0</td>\n",
       "      <td>./dataset/test_images/e50b0174690d.png</td>\n",
       "      <td>e50b0174690d.png</td>\n",
       "    </tr>\n",
       "    <tr>\n",
       "      <th>4</th>\n",
       "      <td>e5197d77ec68</td>\n",
       "      <td>0</td>\n",
       "      <td>./dataset/test_images/e5197d77ec68.png</td>\n",
       "      <td>e5197d77ec68.png</td>\n",
       "    </tr>\n",
       "  </tbody>\n",
       "</table>\n",
       "</div>"
      ],
      "text/plain": [
       "        id_code  diagnosis                               file_path  \\\n",
       "0  e4dcca36ceb4          0  ./dataset/test_images/e4dcca36ceb4.png   \n",
       "1  e4e343eaae2a          2  ./dataset/test_images/e4e343eaae2a.png   \n",
       "2  e4f12411fd85          4  ./dataset/test_images/e4f12411fd85.png   \n",
       "3  e50b0174690d          0  ./dataset/test_images/e50b0174690d.png   \n",
       "4  e5197d77ec68          0  ./dataset/test_images/e5197d77ec68.png   \n",
       "\n",
       "          file_name  \n",
       "0  e4dcca36ceb4.png  \n",
       "1  e4e343eaae2a.png  \n",
       "2  e4f12411fd85.png  \n",
       "3  e50b0174690d.png  \n",
       "4  e5197d77ec68.png  "
      ]
     },
     "execution_count": 10,
     "metadata": {},
     "output_type": "execute_result"
    }
   ],
   "source": [
    "df_test.head()"
   ]
  },
  {
   "cell_type": "code",
   "execution_count": 11,
   "id": "95a7e5e9",
   "metadata": {},
   "outputs": [
    {
     "data": {
      "text/plain": [
       "(2344, 366)"
      ]
     },
     "execution_count": 11,
     "metadata": {},
     "output_type": "execute_result"
    }
   ],
   "source": [
    "len(df_train_train), len(df_test)"
   ]
  },
  {
   "cell_type": "code",
   "execution_count": 5,
   "id": "0cb2fde4",
   "metadata": {},
   "outputs": [],
   "source": [
    "import multiprocessing\n",
    "from multiprocessing.pool import ThreadPool\n",
    "import warnings\n",
    "import cv2\n",
    "import numpy as np"
   ]
  },
  {
   "cell_type": "code",
   "execution_count": 6,
   "id": "88862929",
   "metadata": {},
   "outputs": [],
   "source": [
    "IMG_SIZE= 512\n",
    "\n",
    "def crop_image_from_gray(img,tol=7):\n",
    "    if img.ndim ==2:\n",
    "        mask = img>tol\n",
    "        return img[np.ix_(mask.any(1),mask.any(0))]\n",
    "    \n",
    "    elif img.ndim==3:\n",
    "        gray_img = cv2.cvtColor(img, cv2.COLOR_RGB2GRAY)\n",
    "        mask = gray_img>tol\n",
    "        \n",
    "        check_shape = img[:,:,0][np.ix_(mask.any(1),mask.any(0))].shape[0]\n",
    "        if (check_shape == 0): # image is too dark so that we crop out everything,\n",
    "            return img # return original image\n",
    "        else:\n",
    "            img1=img[:,:,0][np.ix_(mask.any(1),mask.any(0))]\n",
    "            img2=img[:,:,1][np.ix_(mask.any(1),mask.any(0))]\n",
    "            img3=img[:,:,2][np.ix_(mask.any(1),mask.any(0))]\n",
    "    #         print(img1.shape,img2.shape,img3.shape)\n",
    "            img = np.stack([img1,img2,img3],axis=-1)\n",
    "    #         print(img.shape)\n",
    "        return img\n",
    "    \n",
    "\n",
    "\n",
    "def circle_crop(img, sigmaX = 30):   \n",
    "    \"\"\"\n",
    "    Create circular crop around image centre    \n",
    "    \"\"\"    \n",
    "    img = crop_image_from_gray(img)    \n",
    "    img = cv2.cvtColor(img, cv2.COLOR_BGR2RGB)\n",
    "    \n",
    "    height, width, depth = img.shape    \n",
    "    \n",
    "    x = int(width/2)\n",
    "    y = int(height/2)\n",
    "    r = np.amin((x,y))\n",
    "    \n",
    "    circle_img = np.zeros((height, width), np.uint8)\n",
    "    cv2.circle(circle_img, (x,y), int(r), 1, thickness=-1)\n",
    "    img = cv2.bitwise_and(img, img, mask=circle_img)\n",
    "    img = crop_image_from_gray(img)\n",
    "    img=cv2.addWeighted(img,4, cv2.GaussianBlur( img , (0,0) , sigmaX) ,-4 ,128)\n",
    "    return img \n"
   ]
  },
  {
   "cell_type": "markdown",
   "id": "03ad9ebe",
   "metadata": {},
   "source": [
    "Storing Test images"
   ]
  },
  {
   "cell_type": "code",
   "execution_count": 7,
   "id": "30b5ee76",
   "metadata": {},
   "outputs": [],
   "source": [
    "input_path= \"dataset/test_images/\"\n",
    "output_path= \"dataset/test_images_resized_preprocessed/\"\n",
    "\n",
    "for root, dirs, files in os.walk(input_path):\n",
    "    for image_name in files:\n",
    "        #print(image_name)\n",
    "        if '.png' in image_name:\n",
    "            filepath= os.path.join(input_path, image_name)   #Reading path \n",
    "            outpath= os.path.join(output_path, image_name)   #Writing Path \n",
    "            img= cv2.imread(filepath)\n",
    "            img= circle_crop(img)\n",
    "            img= cv2.resize(img,(IMG_SIZE,IMG_SIZE))\n",
    "            cv2.imwrite(outpath, img)"
   ]
  },
  {
   "cell_type": "code",
   "execution_count": null,
   "id": "3ae7a5b3",
   "metadata": {},
   "outputs": [],
   "source": []
  },
  {
   "cell_type": "code",
   "execution_count": null,
   "id": "bec9c124",
   "metadata": {},
   "outputs": [],
   "source": []
  },
  {
   "cell_type": "code",
   "execution_count": null,
   "id": "bdd526fc",
   "metadata": {},
   "outputs": [],
   "source": []
  },
  {
   "cell_type": "code",
   "execution_count": null,
   "id": "bdb77291",
   "metadata": {},
   "outputs": [],
   "source": []
  },
  {
   "cell_type": "code",
   "execution_count": null,
   "id": "84d0ac97",
   "metadata": {},
   "outputs": [],
   "source": []
  },
  {
   "cell_type": "code",
   "execution_count": null,
   "id": "05f2685b",
   "metadata": {},
   "outputs": [],
   "source": []
  },
  {
   "cell_type": "code",
   "execution_count": null,
   "id": "6d5eb531",
   "metadata": {},
   "outputs": [],
   "source": []
  },
  {
   "cell_type": "code",
   "execution_count": null,
   "id": "7415ba01",
   "metadata": {},
   "outputs": [],
   "source": []
  },
  {
   "cell_type": "markdown",
   "id": "3363274d",
   "metadata": {},
   "source": [
    "Validation images"
   ]
  },
  {
   "cell_type": "code",
   "execution_count": 41,
   "id": "7e4fd728",
   "metadata": {},
   "outputs": [
    {
     "data": {
      "text/plain": [
       "586"
      ]
     },
     "execution_count": 41,
     "metadata": {},
     "output_type": "execute_result"
    }
   ],
   "source": [
    "len(df_train_valid)"
   ]
  },
  {
   "cell_type": "code",
   "execution_count": 42,
   "id": "36f73c30",
   "metadata": {},
   "outputs": [
    {
     "data": {
      "text/html": [
       "<div>\n",
       "<style scoped>\n",
       "    .dataframe tbody tr th:only-of-type {\n",
       "        vertical-align: middle;\n",
       "    }\n",
       "\n",
       "    .dataframe tbody tr th {\n",
       "        vertical-align: top;\n",
       "    }\n",
       "\n",
       "    .dataframe thead th {\n",
       "        text-align: right;\n",
       "    }\n",
       "</style>\n",
       "<table border=\"1\" class=\"dataframe\">\n",
       "  <thead>\n",
       "    <tr style=\"text-align: right;\">\n",
       "      <th></th>\n",
       "      <th>id_code</th>\n",
       "      <th>diagnosis</th>\n",
       "      <th>file_path</th>\n",
       "      <th>file_name</th>\n",
       "    </tr>\n",
       "  </thead>\n",
       "  <tbody>\n",
       "    <tr>\n",
       "      <th>1207</th>\n",
       "      <td>6e0f78e188ff</td>\n",
       "      <td>0</td>\n",
       "      <td>dataset/train_images/6e0f78e188ff.png</td>\n",
       "      <td>6e0f78e188ff.png</td>\n",
       "    </tr>\n",
       "    <tr>\n",
       "      <th>2702</th>\n",
       "      <td>d57d1be1bbd1</td>\n",
       "      <td>0</td>\n",
       "      <td>dataset/train_images/d57d1be1bbd1.png</td>\n",
       "      <td>d57d1be1bbd1.png</td>\n",
       "    </tr>\n",
       "    <tr>\n",
       "      <th>630</th>\n",
       "      <td>475c7ded0f7a</td>\n",
       "      <td>2</td>\n",
       "      <td>dataset/train_images/475c7ded0f7a.png</td>\n",
       "      <td>475c7ded0f7a.png</td>\n",
       "    </tr>\n",
       "    <tr>\n",
       "      <th>2849</th>\n",
       "      <td>e019b3e0f33d</td>\n",
       "      <td>4</td>\n",
       "      <td>dataset/train_images/e019b3e0f33d.png</td>\n",
       "      <td>e019b3e0f33d.png</td>\n",
       "    </tr>\n",
       "    <tr>\n",
       "      <th>343</th>\n",
       "      <td>33105f9b3a04</td>\n",
       "      <td>1</td>\n",
       "      <td>dataset/train_images/33105f9b3a04.png</td>\n",
       "      <td>33105f9b3a04.png</td>\n",
       "    </tr>\n",
       "  </tbody>\n",
       "</table>\n",
       "</div>"
      ],
      "text/plain": [
       "           id_code diagnosis                              file_path  \\\n",
       "1207  6e0f78e188ff         0  dataset/train_images/6e0f78e188ff.png   \n",
       "2702  d57d1be1bbd1         0  dataset/train_images/d57d1be1bbd1.png   \n",
       "630   475c7ded0f7a         2  dataset/train_images/475c7ded0f7a.png   \n",
       "2849  e019b3e0f33d         4  dataset/train_images/e019b3e0f33d.png   \n",
       "343   33105f9b3a04         1  dataset/train_images/33105f9b3a04.png   \n",
       "\n",
       "             file_name  \n",
       "1207  6e0f78e188ff.png  \n",
       "2702  d57d1be1bbd1.png  \n",
       "630   475c7ded0f7a.png  \n",
       "2849  e019b3e0f33d.png  \n",
       "343   33105f9b3a04.png  "
      ]
     },
     "execution_count": 42,
     "metadata": {},
     "output_type": "execute_result"
    }
   ],
   "source": [
    "df_train_valid.head()"
   ]
  },
  {
   "cell_type": "code",
   "execution_count": 44,
   "id": "90fb45b3",
   "metadata": {},
   "outputs": [
    {
     "data": {
      "text/html": [
       "<div>\n",
       "<style scoped>\n",
       "    .dataframe tbody tr th:only-of-type {\n",
       "        vertical-align: middle;\n",
       "    }\n",
       "\n",
       "    .dataframe tbody tr th {\n",
       "        vertical-align: top;\n",
       "    }\n",
       "\n",
       "    .dataframe thead th {\n",
       "        text-align: right;\n",
       "    }\n",
       "</style>\n",
       "<table border=\"1\" class=\"dataframe\">\n",
       "  <thead>\n",
       "    <tr style=\"text-align: right;\">\n",
       "      <th></th>\n",
       "      <th>id_code</th>\n",
       "      <th>diagnosis</th>\n",
       "      <th>file_path</th>\n",
       "      <th>file_name</th>\n",
       "    </tr>\n",
       "  </thead>\n",
       "  <tbody>\n",
       "    <tr>\n",
       "      <th>1207</th>\n",
       "      <td>6e0f78e188ff</td>\n",
       "      <td>0</td>\n",
       "      <td>dataset/train_images/6e0f78e188ff.png</td>\n",
       "      <td>6e0f78e188ff.png</td>\n",
       "    </tr>\n",
       "    <tr>\n",
       "      <th>2702</th>\n",
       "      <td>d57d1be1bbd1</td>\n",
       "      <td>0</td>\n",
       "      <td>dataset/train_images/d57d1be1bbd1.png</td>\n",
       "      <td>d57d1be1bbd1.png</td>\n",
       "    </tr>\n",
       "    <tr>\n",
       "      <th>630</th>\n",
       "      <td>475c7ded0f7a</td>\n",
       "      <td>2</td>\n",
       "      <td>dataset/train_images/475c7ded0f7a.png</td>\n",
       "      <td>475c7ded0f7a.png</td>\n",
       "    </tr>\n",
       "    <tr>\n",
       "      <th>2849</th>\n",
       "      <td>e019b3e0f33d</td>\n",
       "      <td>4</td>\n",
       "      <td>dataset/train_images/e019b3e0f33d.png</td>\n",
       "      <td>e019b3e0f33d.png</td>\n",
       "    </tr>\n",
       "    <tr>\n",
       "      <th>343</th>\n",
       "      <td>33105f9b3a04</td>\n",
       "      <td>1</td>\n",
       "      <td>dataset/train_images/33105f9b3a04.png</td>\n",
       "      <td>33105f9b3a04.png</td>\n",
       "    </tr>\n",
       "  </tbody>\n",
       "</table>\n",
       "</div>"
      ],
      "text/plain": [
       "           id_code diagnosis                              file_path  \\\n",
       "1207  6e0f78e188ff         0  dataset/train_images/6e0f78e188ff.png   \n",
       "2702  d57d1be1bbd1         0  dataset/train_images/d57d1be1bbd1.png   \n",
       "630   475c7ded0f7a         2  dataset/train_images/475c7ded0f7a.png   \n",
       "2849  e019b3e0f33d         4  dataset/train_images/e019b3e0f33d.png   \n",
       "343   33105f9b3a04         1  dataset/train_images/33105f9b3a04.png   \n",
       "\n",
       "             file_name  \n",
       "1207  6e0f78e188ff.png  \n",
       "2702  d57d1be1bbd1.png  \n",
       "630   475c7ded0f7a.png  \n",
       "2849  e019b3e0f33d.png  \n",
       "343   33105f9b3a04.png  "
      ]
     },
     "execution_count": 44,
     "metadata": {},
     "output_type": "execute_result"
    }
   ],
   "source": [
    "df= pd.DataFrame(df_train_valid)\n",
    "df.head()"
   ]
  },
  {
   "cell_type": "code",
   "execution_count": 47,
   "id": "f814d215",
   "metadata": {},
   "outputs": [
    {
     "data": {
      "text/plain": [
       "1207    6e0f78e188ff.png\n",
       "2702    d57d1be1bbd1.png\n",
       "630     475c7ded0f7a.png\n",
       "2849    e019b3e0f33d.png\n",
       "343     33105f9b3a04.png\n",
       "              ...       \n",
       "50      1dbdc32c17db.png\n",
       "2789    da9fe02dead3.png\n",
       "674     4a589edaea60.png\n",
       "669     4a213b405ee4.png\n",
       "2198    b13d72ceea26.png\n",
       "Name: file_name, Length: 586, dtype: object"
      ]
     },
     "execution_count": 47,
     "metadata": {},
     "output_type": "execute_result"
    }
   ],
   "source": [
    "df1= df.file_name\n",
    "df1"
   ]
  },
  {
   "cell_type": "code",
   "execution_count": 48,
   "id": "27d8f398",
   "metadata": {},
   "outputs": [
    {
     "data": {
      "text/plain": [
       "(586,)"
      ]
     },
     "execution_count": 48,
     "metadata": {},
     "output_type": "execute_result"
    }
   ],
   "source": [
    "df1.shape"
   ]
  },
  {
   "cell_type": "code",
   "execution_count": null,
   "id": "b17815c1",
   "metadata": {},
   "outputs": [],
   "source": []
  },
  {
   "cell_type": "code",
   "execution_count": null,
   "id": "4263e4e8",
   "metadata": {},
   "outputs": [],
   "source": []
  },
  {
   "cell_type": "code",
   "execution_count": null,
   "id": "76ee037f",
   "metadata": {},
   "outputs": [],
   "source": []
  },
  {
   "cell_type": "code",
   "execution_count": null,
   "id": "2c4be7cd",
   "metadata": {},
   "outputs": [],
   "source": []
  }
 ],
 "metadata": {
  "kernelspec": {
   "display_name": "Python 3",
   "language": "python",
   "name": "python3"
  },
  "language_info": {
   "codemirror_mode": {
    "name": "ipython",
    "version": 3
   },
   "file_extension": ".py",
   "mimetype": "text/x-python",
   "name": "python",
   "nbconvert_exporter": "python",
   "pygments_lexer": "ipython3",
   "version": "3.6.13"
  }
 },
 "nbformat": 4,
 "nbformat_minor": 5
}
